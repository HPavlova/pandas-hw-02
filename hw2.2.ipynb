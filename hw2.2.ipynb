{
 "cells": [
  {
   "cell_type": "code",
   "execution_count": 1,
   "id": "5e1246d7",
   "metadata": {},
   "outputs": [],
   "source": [
    "import pandas as pd"
   ]
  },
  {
   "cell_type": "markdown",
   "id": "197eceb4",
   "metadata": {},
   "source": [
    "#### Прочитайте файл 2017_jun_final.csv с помощью метода read_csv"
   ]
  },
  {
   "cell_type": "code",
   "execution_count": 55,
   "id": "41a4dc87",
   "metadata": {},
   "outputs": [],
   "source": [
    "jun = pd.read_csv(\"data/2017_jun_final.csv\", index_col=0, parse_dates=True)"
   ]
  },
  {
   "cell_type": "markdown",
   "id": "5cd5cb49",
   "metadata": {},
   "source": [
    "#### Прочитайте полученную таблицу используя метод head"
   ]
  },
  {
   "cell_type": "code",
   "execution_count": 56,
   "id": "0c2ca605",
   "metadata": {},
   "outputs": [
    {
     "data": {
      "text/html": [
       "<div>\n",
       "<style scoped>\n",
       "    .dataframe tbody tr th:only-of-type {\n",
       "        vertical-align: middle;\n",
       "    }\n",
       "\n",
       "    .dataframe tbody tr th {\n",
       "        vertical-align: top;\n",
       "    }\n",
       "\n",
       "    .dataframe thead th {\n",
       "        text-align: right;\n",
       "    }\n",
       "</style>\n",
       "<table border=\"1\" class=\"dataframe\">\n",
       "  <thead>\n",
       "    <tr style=\"text-align: right;\">\n",
       "      <th></th>\n",
       "      <th>Должность</th>\n",
       "      <th>Язык.программирования</th>\n",
       "      <th>Специализация</th>\n",
       "      <th>Общий.опыт.работы</th>\n",
       "      <th>Опыт.работы.на.текущем.месте</th>\n",
       "      <th>Зарплата.в.месяц</th>\n",
       "      <th>Изменение.зарплаты.за.12.месяцев</th>\n",
       "      <th>Город</th>\n",
       "      <th>Размер.компании</th>\n",
       "      <th>Тип.компании</th>\n",
       "      <th>...</th>\n",
       "      <th>Еще.студент</th>\n",
       "      <th>Уровень.английского</th>\n",
       "      <th>Предметная.область</th>\n",
       "      <th>Дата.заполнения</th>\n",
       "      <th>User.Agent</th>\n",
       "      <th>exp</th>\n",
       "      <th>current_job_exp</th>\n",
       "      <th>salary</th>\n",
       "      <th>Валюта</th>\n",
       "      <th>cls</th>\n",
       "    </tr>\n",
       "    <tr>\n",
       "      <th>N</th>\n",
       "      <th></th>\n",
       "      <th></th>\n",
       "      <th></th>\n",
       "      <th></th>\n",
       "      <th></th>\n",
       "      <th></th>\n",
       "      <th></th>\n",
       "      <th></th>\n",
       "      <th></th>\n",
       "      <th></th>\n",
       "      <th></th>\n",
       "      <th></th>\n",
       "      <th></th>\n",
       "      <th></th>\n",
       "      <th></th>\n",
       "      <th></th>\n",
       "      <th></th>\n",
       "      <th></th>\n",
       "      <th></th>\n",
       "      <th></th>\n",
       "      <th></th>\n",
       "    </tr>\n",
       "  </thead>\n",
       "  <tbody>\n",
       "    <tr>\n",
       "      <th>1</th>\n",
       "      <td>Junior QA engineer</td>\n",
       "      <td>NaN</td>\n",
       "      <td>Manual QA</td>\n",
       "      <td>0.5</td>\n",
       "      <td>0.5</td>\n",
       "      <td>400</td>\n",
       "      <td>0</td>\n",
       "      <td>Харьков</td>\n",
       "      <td>до 10 человек</td>\n",
       "      <td>Аутсорсинговая</td>\n",
       "      <td>...</td>\n",
       "      <td>True</td>\n",
       "      <td>ниже среднего</td>\n",
       "      <td>iOS,eCommerce</td>\n",
       "      <td>12/06/2017 12:38:08</td>\n",
       "      <td>Mozilla/5.0 (Windows NT 10.0; Win64; x64) Appl...</td>\n",
       "      <td>0.5</td>\n",
       "      <td>0.5</td>\n",
       "      <td>400</td>\n",
       "      <td>NaN</td>\n",
       "      <td>QA</td>\n",
       "    </tr>\n",
       "    <tr>\n",
       "      <th>2</th>\n",
       "      <td>Junior QA engineer</td>\n",
       "      <td>NaN</td>\n",
       "      <td>Manual QA</td>\n",
       "      <td>меньше 3 месяцев</td>\n",
       "      <td>меньше 3 месяцев</td>\n",
       "      <td>430</td>\n",
       "      <td>130</td>\n",
       "      <td>Харьков</td>\n",
       "      <td>свыше 1000 человек</td>\n",
       "      <td>Аутсорсинговая</td>\n",
       "      <td>...</td>\n",
       "      <td>True</td>\n",
       "      <td>выше среднего</td>\n",
       "      <td>Веб-разработка</td>\n",
       "      <td>12/06/2017 12:42:51</td>\n",
       "      <td>Mozilla/5.0 (iPad; CPU OS 10_2_1 like Mac OS X...</td>\n",
       "      <td>0.0</td>\n",
       "      <td>0.0</td>\n",
       "      <td>430</td>\n",
       "      <td>NaN</td>\n",
       "      <td>QA</td>\n",
       "    </tr>\n",
       "    <tr>\n",
       "      <th>3</th>\n",
       "      <td>Software Engineer</td>\n",
       "      <td>C#/.NET</td>\n",
       "      <td>NaN</td>\n",
       "      <td>4</td>\n",
       "      <td>1</td>\n",
       "      <td>2500</td>\n",
       "      <td>800</td>\n",
       "      <td>Киев</td>\n",
       "      <td>до 1000 человек</td>\n",
       "      <td>Аутсорсинговая</td>\n",
       "      <td>...</td>\n",
       "      <td>False</td>\n",
       "      <td>средний</td>\n",
       "      <td>Веб-разработка,Корпоративные системы</td>\n",
       "      <td>12/06/2017 13:02:47</td>\n",
       "      <td>Mozilla/5.0 (Windows NT 10.0; Win64; x64) Appl...</td>\n",
       "      <td>4.0</td>\n",
       "      <td>1.0</td>\n",
       "      <td>2500</td>\n",
       "      <td>NaN</td>\n",
       "      <td>DEV</td>\n",
       "    </tr>\n",
       "  </tbody>\n",
       "</table>\n",
       "<p>3 rows × 24 columns</p>\n",
       "</div>"
      ],
      "text/plain": [
       "            Должность Язык.программирования Специализация Общий.опыт.работы  \\\n",
       "N                                                                             \n",
       "1  Junior QA engineer                   NaN     Manual QA               0.5   \n",
       "2  Junior QA engineer                   NaN     Manual QA  меньше 3 месяцев   \n",
       "3   Software Engineer               C#/.NET           NaN                 4   \n",
       "\n",
       "  Опыт.работы.на.текущем.месте  Зарплата.в.месяц  \\\n",
       "N                                                  \n",
       "1                          0.5               400   \n",
       "2             меньше 3 месяцев               430   \n",
       "3                            1              2500   \n",
       "\n",
       "   Изменение.зарплаты.за.12.месяцев    Город     Размер.компании  \\\n",
       "N                                                                  \n",
       "1                                 0  Харьков       до 10 человек   \n",
       "2                               130  Харьков  свыше 1000 человек   \n",
       "3                               800     Киев     до 1000 человек   \n",
       "\n",
       "     Тип.компании  ... Еще.студент  Уровень.английского  \\\n",
       "N                  ...                                    \n",
       "1  Аутсорсинговая  ...        True        ниже среднего   \n",
       "2  Аутсорсинговая  ...        True        выше среднего   \n",
       "3  Аутсорсинговая  ...       False              средний   \n",
       "\n",
       "                     Предметная.область      Дата.заполнения  \\\n",
       "N                                                              \n",
       "1                         iOS,eCommerce  12/06/2017 12:38:08   \n",
       "2                        Веб-разработка  12/06/2017 12:42:51   \n",
       "3  Веб-разработка,Корпоративные системы  12/06/2017 13:02:47   \n",
       "\n",
       "                                          User.Agent  exp current_job_exp  \\\n",
       "N                                                                           \n",
       "1  Mozilla/5.0 (Windows NT 10.0; Win64; x64) Appl...  0.5             0.5   \n",
       "2  Mozilla/5.0 (iPad; CPU OS 10_2_1 like Mac OS X...  0.0             0.0   \n",
       "3  Mozilla/5.0 (Windows NT 10.0; Win64; x64) Appl...  4.0             1.0   \n",
       "\n",
       "  salary Валюта  cls  \n",
       "N                     \n",
       "1    400    NaN   QA  \n",
       "2    430    NaN   QA  \n",
       "3   2500    NaN  DEV  \n",
       "\n",
       "[3 rows x 24 columns]"
      ]
     },
     "execution_count": 56,
     "metadata": {},
     "output_type": "execute_result"
    }
   ],
   "source": [
    "jun.head(3)"
   ]
  },
  {
   "cell_type": "markdown",
   "id": "65001cf8",
   "metadata": {},
   "source": [
    "#### Определите размер таблицы с помощью метода shape"
   ]
  },
  {
   "cell_type": "code",
   "execution_count": 57,
   "id": "392d1746",
   "metadata": {},
   "outputs": [
    {
     "data": {
      "text/plain": [
       "(8704, 24)"
      ]
     },
     "execution_count": 57,
     "metadata": {},
     "output_type": "execute_result"
    }
   ],
   "source": [
    "jun.shape"
   ]
  },
  {
   "cell_type": "markdown",
   "id": "e886ff64",
   "metadata": {},
   "source": [
    "#### Определите типы всех столбцов с помощью dataframe.dtypes"
   ]
  },
  {
   "cell_type": "code",
   "execution_count": 58,
   "id": "09b56380",
   "metadata": {},
   "outputs": [
    {
     "data": {
      "text/plain": [
       "Должность                            object\n",
       "Язык.программирования                object\n",
       "Специализация                        object\n",
       "Общий.опыт.работы                    object\n",
       "Опыт.работы.на.текущем.месте         object\n",
       "Зарплата.в.месяц                      int64\n",
       "Изменение.зарплаты.за.12.месяцев      int64\n",
       "Город                                object\n",
       "Размер.компании                      object\n",
       "Тип.компании                         object\n",
       "Пол                                  object\n",
       "Возраст                               int64\n",
       "Образование                          object\n",
       "Университет                          object\n",
       "Еще.студент                            bool\n",
       "Уровень.английского                  object\n",
       "Предметная.область                   object\n",
       "Дата.заполнения                      object\n",
       "User.Agent                           object\n",
       "exp                                 float64\n",
       "current_job_exp                     float64\n",
       "salary                                int64\n",
       "Валюта                               object\n",
       "cls                                  object\n",
       "dtype: object"
      ]
     },
     "execution_count": 58,
     "metadata": {},
     "output_type": "execute_result"
    }
   ],
   "source": [
    "jun.dtypes"
   ]
  },
  {
   "cell_type": "markdown",
   "id": "a669d0b5",
   "metadata": {},
   "source": [
    "#### Посчитайте, какая доля пропусков содержится в каждой колонке (используйте методы isnull и sum)"
   ]
  },
  {
   "cell_type": "code",
   "execution_count": 59,
   "id": "06bab40a",
   "metadata": {},
   "outputs": [
    {
     "data": {
      "text/plain": [
       "Должность                              0\n",
       "Язык.программирования               3850\n",
       "Специализация                       7219\n",
       "Общий.опыт.работы                      0\n",
       "Опыт.работы.на.текущем.месте           0\n",
       "Зарплата.в.месяц                       0\n",
       "Изменение.зарплаты.за.12.месяцев       0\n",
       "Город                                  0\n",
       "Размер.компании                        0\n",
       "Тип.компании                           0\n",
       "Пол                                    0\n",
       "Возраст                                0\n",
       "Образование                            0\n",
       "Университет                          358\n",
       "Еще.студент                            0\n",
       "Уровень.английского                    0\n",
       "Предметная.область                   223\n",
       "Дата.заполнения                        0\n",
       "User.Agent                             0\n",
       "exp                                    0\n",
       "current_job_exp                        0\n",
       "salary                                 0\n",
       "Валюта                              8694\n",
       "cls                                 1574\n",
       "dtype: int64"
      ]
     },
     "execution_count": 59,
     "metadata": {},
     "output_type": "execute_result"
    }
   ],
   "source": [
    "pd.isnull(jun).sum()"
   ]
  },
  {
   "cell_type": "markdown",
   "id": "47dc595f",
   "metadata": {},
   "source": [
    "#### Удалите все столбцы с пропусками, кроме столбца \"Язык.программирования\""
   ]
  },
  {
   "cell_type": "code",
   "execution_count": 154,
   "id": "18adfff5",
   "metadata": {},
   "outputs": [
    {
     "data": {
      "text/plain": [
       "['Специализация',\n",
       " 'Общий.опыт.работы',\n",
       " 'Опыт.работы.на.текущем.месте',\n",
       " 'Зарплата.в.месяц',\n",
       " 'Изменение.зарплаты.за.12.месяцев',\n",
       " 'Город',\n",
       " 'Размер.компании',\n",
       " 'Тип.компании',\n",
       " 'Пол',\n",
       " 'Возраст',\n",
       " 'Образование',\n",
       " 'Университет',\n",
       " 'Еще.студент',\n",
       " 'Уровень.английского',\n",
       " 'Предметная.область',\n",
       " 'Дата.заполнения',\n",
       " 'User.Agent',\n",
       " 'exp',\n",
       " 'current_job_exp',\n",
       " 'salary',\n",
       " 'Валюта',\n",
       " 'cls']"
      ]
     },
     "execution_count": 154,
     "metadata": {},
     "output_type": "execute_result"
    }
   ],
   "source": [
    "subset = list(jun.iloc[:, 2:].columns)\n",
    "subset\n",
    "\n",
    "# jun.drop(subset, axis=1)"
   ]
  },
  {
   "cell_type": "markdown",
   "id": "3f279294",
   "metadata": {},
   "source": [
    "#### Опять посчитайте, какая доля пропусков содержится в каждой колонке и убедитесь, что остался только столбец \"Язык.программирования\""
   ]
  },
  {
   "cell_type": "code",
   "execution_count": null,
   "id": "ce706dd9",
   "metadata": {},
   "outputs": [],
   "source": []
  },
  {
   "cell_type": "markdown",
   "id": "cf295489",
   "metadata": {},
   "source": [
    "#### Удалите все строки в исходной таблице с помощью метода dropna"
   ]
  },
  {
   "cell_type": "code",
   "execution_count": null,
   "id": "590db076",
   "metadata": {},
   "outputs": [],
   "source": []
  },
  {
   "cell_type": "markdown",
   "id": "e20508c3",
   "metadata": {},
   "source": [
    "#### Определите новый размер таблицы с помощью метода shape"
   ]
  },
  {
   "cell_type": "code",
   "execution_count": null,
   "id": "11590ce9",
   "metadata": {},
   "outputs": [],
   "source": []
  },
  {
   "cell_type": "markdown",
   "id": "59ccafc0",
   "metadata": {},
   "source": [
    "#### Создайте новую таблицу python_data в которой будут только строки со специалистами указавшими язык программирования Python"
   ]
  },
  {
   "cell_type": "code",
   "execution_count": null,
   "id": "fdef39af",
   "metadata": {},
   "outputs": [],
   "source": []
  },
  {
   "cell_type": "markdown",
   "id": "ee57968c",
   "metadata": {},
   "source": [
    "#### Определите размер таблицы python_data с помощью метода shape"
   ]
  },
  {
   "cell_type": "code",
   "execution_count": null,
   "id": "7e0c5496",
   "metadata": {},
   "outputs": [],
   "source": []
  },
  {
   "cell_type": "markdown",
   "id": "205aa1f6",
   "metadata": {},
   "source": [
    "#### Используя метод groupby выполните группировку по столбцу \"Должность\""
   ]
  },
  {
   "cell_type": "code",
   "execution_count": null,
   "id": "be41e550",
   "metadata": {},
   "outputs": [],
   "source": []
  },
  {
   "cell_type": "markdown",
   "id": "63328bf5",
   "metadata": {},
   "source": [
    "#### Создайте новый DataFrame, где для сгруппированных данных по столбцу \"Должность\", выполните агрегацию данных с помощью метода agg и найдите минимальное и максимальное значение в столбце \"Зарплата.в.месяц\""
   ]
  },
  {
   "cell_type": "code",
   "execution_count": null,
   "id": "8b92aeb8",
   "metadata": {},
   "outputs": [],
   "source": []
  },
  {
   "cell_type": "markdown",
   "id": "a9a3ac93",
   "metadata": {},
   "source": [
    "#### Создайте функцию fill_avg_salary которая будет возвращать среднее значение заработной платы в месяц. Используйте ее для метода apply и создайте новый столбик \"avg\""
   ]
  },
  {
   "cell_type": "code",
   "execution_count": null,
   "id": "55d26a8f",
   "metadata": {},
   "outputs": [],
   "source": []
  },
  {
   "cell_type": "markdown",
   "id": "424754e4",
   "metadata": {},
   "source": [
    "#### Создайте описательную статистику с помощью метода describe для нового столбца."
   ]
  },
  {
   "cell_type": "code",
   "execution_count": null,
   "id": "42406f96",
   "metadata": {},
   "outputs": [],
   "source": []
  },
  {
   "cell_type": "markdown",
   "id": "cf0ddb2c",
   "metadata": {},
   "source": [
    "#### Сохраните полученную таблицу в CSV файл"
   ]
  },
  {
   "cell_type": "code",
   "execution_count": null,
   "id": "d853b91d",
   "metadata": {},
   "outputs": [],
   "source": []
  }
 ],
 "metadata": {
  "kernelspec": {
   "display_name": "Python 3 (ipykernel)",
   "language": "python",
   "name": "python3"
  },
  "language_info": {
   "codemirror_mode": {
    "name": "ipython",
    "version": 3
   },
   "file_extension": ".py",
   "mimetype": "text/x-python",
   "name": "python",
   "nbconvert_exporter": "python",
   "pygments_lexer": "ipython3",
   "version": "3.9.13"
  },
  "vscode": {
   "interpreter": {
    "hash": "aee8b7b246df8f9039afb4144a1f6fd8d2ca17a180786b69acc140d282b71a49"
   }
  }
 },
 "nbformat": 4,
 "nbformat_minor": 5
}
