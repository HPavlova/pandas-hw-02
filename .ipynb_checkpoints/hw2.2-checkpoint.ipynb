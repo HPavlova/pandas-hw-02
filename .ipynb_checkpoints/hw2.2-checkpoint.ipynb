{
 "cells": [
  {
   "cell_type": "code",
   "execution_count": 1,
   "id": "5e1246d7",
   "metadata": {},
   "outputs": [],
   "source": [
    "import pandas as pd"
   ]
  },
  {
   "cell_type": "markdown",
   "id": "197eceb4",
   "metadata": {},
   "source": [
    "#### Прочитайте файл 2017_jun_final.csv с помощью метода read_csv"
   ]
  },
  {
   "cell_type": "code",
   "execution_count": 55,
   "id": "41a4dc87",
   "metadata": {},
   "outputs": [],
   "source": [
    "jun = pd.read_csv(\"data/2017_jun_final.csv\", index_col=0, parse_dates=True)"
   ]
  },
  {
   "cell_type": "markdown",
   "id": "5cd5cb49",
   "metadata": {},
   "source": [
    "#### Прочитайте полученную таблицу используя метод head"
   ]
  },
  {
   "cell_type": "code",
   "execution_count": 56,
   "id": "0c2ca605",
   "metadata": {},
   "outputs": [
    {
     "data": {
      "text/html": [
       "<div>\n",
       "<style scoped>\n",
       "    .dataframe tbody tr th:only-of-type {\n",
       "        vertical-align: middle;\n",
       "    }\n",
       "\n",
       "    .dataframe tbody tr th {\n",
       "        vertical-align: top;\n",
       "    }\n",
       "\n",
       "    .dataframe thead th {\n",
       "        text-align: right;\n",
       "    }\n",
       "</style>\n",
       "<table border=\"1\" class=\"dataframe\">\n",
       "  <thead>\n",
       "    <tr style=\"text-align: right;\">\n",
       "      <th></th>\n",
       "      <th>Должность</th>\n",
       "      <th>Язык.программирования</th>\n",
       "      <th>Специализация</th>\n",
       "      <th>Общий.опыт.работы</th>\n",
       "      <th>Опыт.работы.на.текущем.месте</th>\n",
       "      <th>Зарплата.в.месяц</th>\n",
       "      <th>Изменение.зарплаты.за.12.месяцев</th>\n",
       "      <th>Город</th>\n",
       "      <th>Размер.компании</th>\n",
       "      <th>Тип.компании</th>\n",
       "      <th>...</th>\n",
       "      <th>Еще.студент</th>\n",
       "      <th>Уровень.английского</th>\n",
       "      <th>Предметная.область</th>\n",
       "      <th>Дата.заполнения</th>\n",
       "      <th>User.Agent</th>\n",
       "      <th>exp</th>\n",
       "      <th>current_job_exp</th>\n",
       "      <th>salary</th>\n",
       "      <th>Валюта</th>\n",
       "      <th>cls</th>\n",
       "    </tr>\n",
       "    <tr>\n",
       "      <th>N</th>\n",
       "      <th></th>\n",
       "      <th></th>\n",
       "      <th></th>\n",
       "      <th></th>\n",
       "      <th></th>\n",
       "      <th></th>\n",
       "      <th></th>\n",
       "      <th></th>\n",
       "      <th></th>\n",
       "      <th></th>\n",
       "      <th></th>\n",
       "      <th></th>\n",
       "      <th></th>\n",
       "      <th></th>\n",
       "      <th></th>\n",
       "      <th></th>\n",
       "      <th></th>\n",
       "      <th></th>\n",
       "      <th></th>\n",
       "      <th></th>\n",
       "      <th></th>\n",
       "    </tr>\n",
       "  </thead>\n",
       "  <tbody>\n",
       "    <tr>\n",
       "      <th>1</th>\n",
       "      <td>Junior QA engineer</td>\n",
       "      <td>NaN</td>\n",
       "      <td>Manual QA</td>\n",
       "      <td>0.5</td>\n",
       "      <td>0.5</td>\n",
       "      <td>400</td>\n",
       "      <td>0</td>\n",
       "      <td>Харьков</td>\n",
       "      <td>до 10 человек</td>\n",
       "      <td>Аутсорсинговая</td>\n",
       "      <td>...</td>\n",
       "      <td>True</td>\n",
       "      <td>ниже среднего</td>\n",
       "      <td>iOS,eCommerce</td>\n",
       "      <td>12/06/2017 12:38:08</td>\n",
       "      <td>Mozilla/5.0 (Windows NT 10.0; Win64; x64) Appl...</td>\n",
       "      <td>0.5</td>\n",
       "      <td>0.5</td>\n",
       "      <td>400</td>\n",
       "      <td>NaN</td>\n",
       "      <td>QA</td>\n",
       "    </tr>\n",
       "    <tr>\n",
       "      <th>2</th>\n",
       "      <td>Junior QA engineer</td>\n",
       "      <td>NaN</td>\n",
       "      <td>Manual QA</td>\n",
       "      <td>меньше 3 месяцев</td>\n",
       "      <td>меньше 3 месяцев</td>\n",
       "      <td>430</td>\n",
       "      <td>130</td>\n",
       "      <td>Харьков</td>\n",
       "      <td>свыше 1000 человек</td>\n",
       "      <td>Аутсорсинговая</td>\n",
       "      <td>...</td>\n",
       "      <td>True</td>\n",
       "      <td>выше среднего</td>\n",
       "      <td>Веб-разработка</td>\n",
       "      <td>12/06/2017 12:42:51</td>\n",
       "      <td>Mozilla/5.0 (iPad; CPU OS 10_2_1 like Mac OS X...</td>\n",
       "      <td>0.0</td>\n",
       "      <td>0.0</td>\n",
       "      <td>430</td>\n",
       "      <td>NaN</td>\n",
       "      <td>QA</td>\n",
       "    </tr>\n",
       "    <tr>\n",
       "      <th>3</th>\n",
       "      <td>Software Engineer</td>\n",
       "      <td>C#/.NET</td>\n",
       "      <td>NaN</td>\n",
       "      <td>4</td>\n",
       "      <td>1</td>\n",
       "      <td>2500</td>\n",
       "      <td>800</td>\n",
       "      <td>Киев</td>\n",
       "      <td>до 1000 человек</td>\n",
       "      <td>Аутсорсинговая</td>\n",
       "      <td>...</td>\n",
       "      <td>False</td>\n",
       "      <td>средний</td>\n",
       "      <td>Веб-разработка,Корпоративные системы</td>\n",
       "      <td>12/06/2017 13:02:47</td>\n",
       "      <td>Mozilla/5.0 (Windows NT 10.0; Win64; x64) Appl...</td>\n",
       "      <td>4.0</td>\n",
       "      <td>1.0</td>\n",
       "      <td>2500</td>\n",
       "      <td>NaN</td>\n",
       "      <td>DEV</td>\n",
       "    </tr>\n",
       "  </tbody>\n",
       "</table>\n",
       "<p>3 rows × 24 columns</p>\n",
       "</div>"
      ],
      "text/plain": [
       "            Должность Язык.программирования Специализация Общий.опыт.работы  \\\n",
       "N                                                                             \n",
       "1  Junior QA engineer                   NaN     Manual QA               0.5   \n",
       "2  Junior QA engineer                   NaN     Manual QA  меньше 3 месяцев   \n",
       "3   Software Engineer               C#/.NET           NaN                 4   \n",
       "\n",
       "  Опыт.работы.на.текущем.месте  Зарплата.в.месяц  \\\n",
       "N                                                  \n",
       "1                          0.5               400   \n",
       "2             меньше 3 месяцев               430   \n",
       "3                            1              2500   \n",
       "\n",
       "   Изменение.зарплаты.за.12.месяцев    Город     Размер.компании  \\\n",
       "N                                                                  \n",
       "1                                 0  Харьков       до 10 человек   \n",
       "2                               130  Харьков  свыше 1000 человек   \n",
       "3                               800     Киев     до 1000 человек   \n",
       "\n",
       "     Тип.компании  ... Еще.студент  Уровень.английского  \\\n",
       "N                  ...                                    \n",
       "1  Аутсорсинговая  ...        True        ниже среднего   \n",
       "2  Аутсорсинговая  ...        True        выше среднего   \n",
       "3  Аутсорсинговая  ...       False              средний   \n",
       "\n",
       "                     Предметная.область      Дата.заполнения  \\\n",
       "N                                                              \n",
       "1                         iOS,eCommerce  12/06/2017 12:38:08   \n",
       "2                        Веб-разработка  12/06/2017 12:42:51   \n",
       "3  Веб-разработка,Корпоративные системы  12/06/2017 13:02:47   \n",
       "\n",
       "                                          User.Agent  exp current_job_exp  \\\n",
       "N                                                                           \n",
       "1  Mozilla/5.0 (Windows NT 10.0; Win64; x64) Appl...  0.5             0.5   \n",
       "2  Mozilla/5.0 (iPad; CPU OS 10_2_1 like Mac OS X...  0.0             0.0   \n",
       "3  Mozilla/5.0 (Windows NT 10.0; Win64; x64) Appl...  4.0             1.0   \n",
       "\n",
       "  salary Валюта  cls  \n",
       "N                     \n",
       "1    400    NaN   QA  \n",
       "2    430    NaN   QA  \n",
       "3   2500    NaN  DEV  \n",
       "\n",
       "[3 rows x 24 columns]"
      ]
     },
     "execution_count": 56,
     "metadata": {},
     "output_type": "execute_result"
    }
   ],
   "source": [
    "jun.head(3)"
   ]
  },
  {
   "cell_type": "markdown",
   "id": "65001cf8",
   "metadata": {},
   "source": [
    "#### Определите размер таблицы с помощью метода shape"
   ]
  },
  {
   "cell_type": "code",
   "execution_count": 57,
   "id": "392d1746",
   "metadata": {},
   "outputs": [
    {
     "data": {
      "text/plain": [
       "(8704, 24)"
      ]
     },
     "execution_count": 57,
     "metadata": {},
     "output_type": "execute_result"
    }
   ],
   "source": [
    "jun.shape"
   ]
  },
  {
   "cell_type": "markdown",
   "id": "e886ff64",
   "metadata": {},
   "source": [
    "#### Определите типы всех столбцов с помощью dataframe.dtypes"
   ]
  },
  {
   "cell_type": "code",
   "execution_count": 58,
   "id": "09b56380",
   "metadata": {},
   "outputs": [
    {
     "data": {
      "text/plain": [
       "Должность                            object\n",
       "Язык.программирования                object\n",
       "Специализация                        object\n",
       "Общий.опыт.работы                    object\n",
       "Опыт.работы.на.текущем.месте         object\n",
       "Зарплата.в.месяц                      int64\n",
       "Изменение.зарплаты.за.12.месяцев      int64\n",
       "Город                                object\n",
       "Размер.компании                      object\n",
       "Тип.компании                         object\n",
       "Пол                                  object\n",
       "Возраст                               int64\n",
       "Образование                          object\n",
       "Университет                          object\n",
       "Еще.студент                            bool\n",
       "Уровень.английского                  object\n",
       "Предметная.область                   object\n",
       "Дата.заполнения                      object\n",
       "User.Agent                           object\n",
       "exp                                 float64\n",
       "current_job_exp                     float64\n",
       "salary                                int64\n",
       "Валюта                               object\n",
       "cls                                  object\n",
       "dtype: object"
      ]
     },
     "execution_count": 58,
     "metadata": {},
     "output_type": "execute_result"
    }
   ],
   "source": [
    "jun.dtypes"
   ]
  },
  {
   "cell_type": "markdown",
   "id": "a669d0b5",
   "metadata": {},
   "source": [
    "#### Посчитайте, какая доля пропусков содержится в каждой колонке (используйте методы isnull и sum)"
   ]
  },
  {
   "cell_type": "code",
   "execution_count": 59,
   "id": "06bab40a",
   "metadata": {},
   "outputs": [
    {
     "data": {
      "text/plain": [
       "Должность                              0\n",
       "Язык.программирования               3850\n",
       "Специализация                       7219\n",
       "Общий.опыт.работы                      0\n",
       "Опыт.работы.на.текущем.месте           0\n",
       "Зарплата.в.месяц                       0\n",
       "Изменение.зарплаты.за.12.месяцев       0\n",
       "Город                                  0\n",
       "Размер.компании                        0\n",
       "Тип.компании                           0\n",
       "Пол                                    0\n",
       "Возраст                                0\n",
       "Образование                            0\n",
       "Университет                          358\n",
       "Еще.студент                            0\n",
       "Уровень.английского                    0\n",
       "Предметная.область                   223\n",
       "Дата.заполнения                        0\n",
       "User.Agent                             0\n",
       "exp                                    0\n",
       "current_job_exp                        0\n",
       "salary                                 0\n",
       "Валюта                              8694\n",
       "cls                                 1574\n",
       "dtype: int64"
      ]
     },
     "execution_count": 59,
     "metadata": {},
     "output_type": "execute_result"
    }
   ],
   "source": [
    "pd.isnull(jun).sum()"
   ]
  },
  {
   "cell_type": "markdown",
   "id": "47dc595f",
   "metadata": {},
   "source": [
    "#### Удалите все столбцы с пропусками, кроме столбца \"Язык.программирования\""
   ]
  },
  {
   "cell_type": "code",
   "execution_count": 163,
   "id": "18adfff5",
   "metadata": {},
   "outputs": [],
   "source": [
    "subset = jun.isnull().sum()[jun.isnull().sum() > 0]\n",
    "idx = subset.index\n",
    "jun.drop(idx[1:], axis=1, inplace=True)"
   ]
  },
  {
   "cell_type": "markdown",
   "id": "3f279294",
   "metadata": {},
   "source": [
    "#### Опять посчитайте, какая доля пропусков содержится в каждой колонке и убедитесь, что остался только столбец \"Язык.программирования\""
   ]
  },
  {
   "cell_type": "code",
   "execution_count": 164,
   "id": "ce706dd9",
   "metadata": {},
   "outputs": [
    {
     "data": {
      "text/plain": [
       "Должность                              0\n",
       "Язык.программирования               3850\n",
       "Специализация                          0\n",
       "Общий.опыт.работы                      0\n",
       "Опыт.работы.на.текущем.месте           0\n",
       "Зарплата.в.месяц                       0\n",
       "Изменение.зарплаты.за.12.месяцев       0\n",
       "Город                                  0\n",
       "Размер.компании                        0\n",
       "Тип.компании                           0\n",
       "Пол                                    0\n",
       "Возраст                                0\n",
       "Образование                            0\n",
       "Университет                            0\n",
       "Еще.студент                            0\n",
       "Уровень.английского                    0\n",
       "Предметная.область                     0\n",
       "Дата.заполнения                        0\n",
       "User.Agent                             0\n",
       "exp                                    0\n",
       "current_job_exp                        0\n",
       "salary                                 0\n",
       "dtype: int64"
      ]
     },
     "execution_count": 164,
     "metadata": {},
     "output_type": "execute_result"
    }
   ],
   "source": [
    "pd.isnull(jun).sum()"
   ]
  },
  {
   "cell_type": "markdown",
   "id": "cf295489",
   "metadata": {},
   "source": [
    "#### Удалите все строки в исходной таблице с помощью метода dropna"
   ]
  },
  {
   "cell_type": "code",
   "execution_count": 165,
   "id": "590db076",
   "metadata": {},
   "outputs": [],
   "source": [
    "jun = jun.dropna()"
   ]
  },
  {
   "cell_type": "markdown",
   "id": "e20508c3",
   "metadata": {},
   "source": [
    "#### Определите новый размер таблицы с помощью метода shape"
   ]
  },
  {
   "cell_type": "code",
   "execution_count": 166,
   "id": "11590ce9",
   "metadata": {},
   "outputs": [
    {
     "data": {
      "text/plain": [
       "(4854, 22)"
      ]
     },
     "execution_count": 166,
     "metadata": {},
     "output_type": "execute_result"
    }
   ],
   "source": [
    "jun.shape"
   ]
  },
  {
   "cell_type": "markdown",
   "id": "59ccafc0",
   "metadata": {},
   "source": [
    "#### Создайте новую таблицу python_data в которой будут только строки со специалистами указавшими язык программирования Python"
   ]
  },
  {
   "cell_type": "code",
   "execution_count": 169,
   "id": "fdef39af",
   "metadata": {},
   "outputs": [],
   "source": [
    "python_data = jun[jun['Язык.программирования'] == 'Python']"
   ]
  },
  {
   "cell_type": "markdown",
   "id": "ee57968c",
   "metadata": {},
   "source": [
    "#### Определите размер таблицы python_data с помощью метода shape"
   ]
  },
  {
   "cell_type": "code",
   "execution_count": 170,
   "id": "7e0c5496",
   "metadata": {},
   "outputs": [
    {
     "data": {
      "text/plain": [
       "(207, 22)"
      ]
     },
     "execution_count": 170,
     "metadata": {},
     "output_type": "execute_result"
    }
   ],
   "source": [
    "python_data.shape"
   ]
  },
  {
   "cell_type": "markdown",
   "id": "205aa1f6",
   "metadata": {},
   "source": [
    "#### Используя метод groupby выполните группировку по столбцу \"Должность\""
   ]
  },
  {
   "cell_type": "code",
   "execution_count": 173,
   "id": "be41e550",
   "metadata": {},
   "outputs": [
    {
     "data": {
      "text/html": [
       "<div>\n",
       "<style scoped>\n",
       "    .dataframe tbody tr th:only-of-type {\n",
       "        vertical-align: middle;\n",
       "    }\n",
       "\n",
       "    .dataframe tbody tr th {\n",
       "        vertical-align: top;\n",
       "    }\n",
       "\n",
       "    .dataframe thead th {\n",
       "        text-align: right;\n",
       "    }\n",
       "</style>\n",
       "<table border=\"1\" class=\"dataframe\">\n",
       "  <thead>\n",
       "    <tr style=\"text-align: right;\">\n",
       "      <th></th>\n",
       "      <th>Опыт.работы.на.текущем.месте</th>\n",
       "      <th>Зарплата.в.месяц</th>\n",
       "      <th>Пол</th>\n",
       "      <th>Образование</th>\n",
       "      <th>Предметная.область</th>\n",
       "      <th>Дата.заполнения</th>\n",
       "      <th>User.Agent</th>\n",
       "      <th>exp</th>\n",
       "      <th>current_job_exp</th>\n",
       "      <th>salary</th>\n",
       "    </tr>\n",
       "    <tr>\n",
       "      <th>Должность</th>\n",
       "      <th></th>\n",
       "      <th></th>\n",
       "      <th></th>\n",
       "      <th></th>\n",
       "      <th></th>\n",
       "      <th></th>\n",
       "      <th></th>\n",
       "      <th></th>\n",
       "      <th></th>\n",
       "      <th></th>\n",
       "    </tr>\n",
       "  </thead>\n",
       "  <tbody>\n",
       "    <tr>\n",
       "      <th>Junior Software Engineer</th>\n",
       "      <td>35333</td>\n",
       "      <td>11405</td>\n",
       "      <td>1523</td>\n",
       "      <td>24</td>\n",
       "      <td>55.25</td>\n",
       "      <td>33.00</td>\n",
       "      <td>35333</td>\n",
       "      <td>55.25</td>\n",
       "      <td>33.00</td>\n",
       "      <td>35333</td>\n",
       "    </tr>\n",
       "    <tr>\n",
       "      <th>Senior Software Engineer</th>\n",
       "      <td>105000</td>\n",
       "      <td>13380</td>\n",
       "      <td>901</td>\n",
       "      <td>1</td>\n",
       "      <td>207.00</td>\n",
       "      <td>48.25</td>\n",
       "      <td>105000</td>\n",
       "      <td>207.00</td>\n",
       "      <td>48.25</td>\n",
       "      <td>105000</td>\n",
       "    </tr>\n",
       "    <tr>\n",
       "      <th>Software Engineer</th>\n",
       "      <td>179907</td>\n",
       "      <td>47983</td>\n",
       "      <td>2663</td>\n",
       "      <td>13</td>\n",
       "      <td>318.00</td>\n",
       "      <td>112.75</td>\n",
       "      <td>179907</td>\n",
       "      <td>318.00</td>\n",
       "      <td>112.75</td>\n",
       "      <td>179907</td>\n",
       "    </tr>\n",
       "    <tr>\n",
       "      <th>System Architect</th>\n",
       "      <td>8000</td>\n",
       "      <td>0</td>\n",
       "      <td>71</td>\n",
       "      <td>0</td>\n",
       "      <td>20.00</td>\n",
       "      <td>2.25</td>\n",
       "      <td>8000</td>\n",
       "      <td>20.00</td>\n",
       "      <td>2.25</td>\n",
       "      <td>8000</td>\n",
       "    </tr>\n",
       "    <tr>\n",
       "      <th>Technical Lead</th>\n",
       "      <td>34825</td>\n",
       "      <td>5005</td>\n",
       "      <td>331</td>\n",
       "      <td>0</td>\n",
       "      <td>78.00</td>\n",
       "      <td>37.25</td>\n",
       "      <td>34825</td>\n",
       "      <td>78.00</td>\n",
       "      <td>37.25</td>\n",
       "      <td>34825</td>\n",
       "    </tr>\n",
       "  </tbody>\n",
       "</table>\n",
       "</div>"
      ],
      "text/plain": [
       "                          Опыт.работы.на.текущем.месте  Зарплата.в.месяц  \\\n",
       "Должность                                                                  \n",
       "Junior Software Engineer                         35333             11405   \n",
       "Senior Software Engineer                        105000             13380   \n",
       "Software Engineer                               179907             47983   \n",
       "System Architect                                  8000                 0   \n",
       "Technical Lead                                   34825              5005   \n",
       "\n",
       "                           Пол  Образование  Предметная.область  \\\n",
       "Должность                                                         \n",
       "Junior Software Engineer  1523           24               55.25   \n",
       "Senior Software Engineer   901            1              207.00   \n",
       "Software Engineer         2663           13              318.00   \n",
       "System Architect            71            0               20.00   \n",
       "Technical Lead             331            0               78.00   \n",
       "\n",
       "                          Дата.заполнения  User.Agent     exp  \\\n",
       "Должность                                                       \n",
       "Junior Software Engineer            33.00       35333   55.25   \n",
       "Senior Software Engineer            48.25      105000  207.00   \n",
       "Software Engineer                  112.75      179907  318.00   \n",
       "System Architect                     2.25        8000   20.00   \n",
       "Technical Lead                      37.25       34825   78.00   \n",
       "\n",
       "                          current_job_exp  salary  \n",
       "Должность                                          \n",
       "Junior Software Engineer            33.00   35333  \n",
       "Senior Software Engineer            48.25  105000  \n",
       "Software Engineer                  112.75  179907  \n",
       "System Architect                     2.25    8000  \n",
       "Technical Lead                      37.25   34825  "
      ]
     },
     "execution_count": 173,
     "metadata": {},
     "output_type": "execute_result"
    }
   ],
   "source": [
    "python_data.groupby('Должность').sum()"
   ]
  },
  {
   "cell_type": "markdown",
   "id": "63328bf5",
   "metadata": {},
   "source": [
    "#### Создайте новый DataFrame, где для сгруппированных данных по столбцу \"Должность\", выполните агрегацию данных с помощью метода agg и найдите минимальное и максимальное значение в столбце \"Зарплата.в.месяц\""
   ]
  },
  {
   "cell_type": "code",
   "execution_count": 176,
   "id": "8b92aeb8",
   "metadata": {},
   "outputs": [
    {
     "data": {
      "text/html": [
       "<div>\n",
       "<style scoped>\n",
       "    .dataframe tbody tr th:only-of-type {\n",
       "        vertical-align: middle;\n",
       "    }\n",
       "\n",
       "    .dataframe tbody tr th {\n",
       "        vertical-align: top;\n",
       "    }\n",
       "\n",
       "    .dataframe thead tr th {\n",
       "        text-align: left;\n",
       "    }\n",
       "\n",
       "    .dataframe thead tr:last-of-type th {\n",
       "        text-align: right;\n",
       "    }\n",
       "</style>\n",
       "<table border=\"1\" class=\"dataframe\">\n",
       "  <thead>\n",
       "    <tr>\n",
       "      <th></th>\n",
       "      <th colspan=\"2\" halign=\"left\">Зарплата.в.месяц</th>\n",
       "    </tr>\n",
       "    <tr>\n",
       "      <th></th>\n",
       "      <th>min</th>\n",
       "      <th>max</th>\n",
       "    </tr>\n",
       "    <tr>\n",
       "      <th>Должность</th>\n",
       "      <th></th>\n",
       "      <th></th>\n",
       "    </tr>\n",
       "  </thead>\n",
       "  <tbody>\n",
       "    <tr>\n",
       "      <th>Data Scientist / Data Analyst</th>\n",
       "      <td>300</td>\n",
       "      <td>300</td>\n",
       "    </tr>\n",
       "    <tr>\n",
       "      <th>DevOps</th>\n",
       "      <td>5500</td>\n",
       "      <td>5500</td>\n",
       "    </tr>\n",
       "    <tr>\n",
       "      <th>ERP / CRM</th>\n",
       "      <td>1000</td>\n",
       "      <td>1000</td>\n",
       "    </tr>\n",
       "    <tr>\n",
       "      <th>HTML coder</th>\n",
       "      <td>-300</td>\n",
       "      <td>350</td>\n",
       "    </tr>\n",
       "    <tr>\n",
       "      <th>Junior Software Engineer</th>\n",
       "      <td>-2000</td>\n",
       "      <td>4000</td>\n",
       "    </tr>\n",
       "    <tr>\n",
       "      <th>Product Manager</th>\n",
       "      <td>500</td>\n",
       "      <td>500</td>\n",
       "    </tr>\n",
       "    <tr>\n",
       "      <th>Senior Software Engineer</th>\n",
       "      <td>-1821</td>\n",
       "      <td>8000</td>\n",
       "    </tr>\n",
       "    <tr>\n",
       "      <th>Software Engineer</th>\n",
       "      <td>-1500</td>\n",
       "      <td>4500</td>\n",
       "    </tr>\n",
       "    <tr>\n",
       "      <th>System Architect</th>\n",
       "      <td>-400</td>\n",
       "      <td>4000</td>\n",
       "    </tr>\n",
       "    <tr>\n",
       "      <th>Team lead</th>\n",
       "      <td>500</td>\n",
       "      <td>500</td>\n",
       "    </tr>\n",
       "    <tr>\n",
       "      <th>Technical Lead</th>\n",
       "      <td>-500</td>\n",
       "      <td>5000</td>\n",
       "    </tr>\n",
       "  </tbody>\n",
       "</table>\n",
       "</div>"
      ],
      "text/plain": [
       "                              Зарплата.в.месяц      \n",
       "                                           min   max\n",
       "Должность                                           \n",
       "Data Scientist / Data Analyst              300   300\n",
       "DevOps                                    5500  5500\n",
       "ERP / CRM                                 1000  1000\n",
       "HTML coder                                -300   350\n",
       "Junior Software Engineer                 -2000  4000\n",
       "Product Manager                            500   500\n",
       "Senior Software Engineer                 -1821  8000\n",
       "Software Engineer                        -1500  4500\n",
       "System Architect                          -400  4000\n",
       "Team lead                                  500   500\n",
       "Technical Lead                            -500  5000"
      ]
     },
     "execution_count": 176,
     "metadata": {},
     "output_type": "execute_result"
    }
   ],
   "source": [
    "new_df = pd.DataFrame(jun)\n",
    "new_df.groupby(['Должность']).agg({'Зарплата.в.месяц': ['min', 'max']})"
   ]
  },
  {
   "cell_type": "markdown",
   "id": "a9a3ac93",
   "metadata": {},
   "source": [
    "#### Создайте функцию fill_avg_salary которая будет возвращать среднее значение заработной платы в месяц. Используйте ее для метода apply и создайте новый столбик \"avg\""
   ]
  },
  {
   "cell_type": "code",
   "execution_count": 187,
   "id": "55d26a8f",
   "metadata": {},
   "outputs": [
    {
     "data": {
      "text/html": [
       "<div>\n",
       "<style scoped>\n",
       "    .dataframe tbody tr th:only-of-type {\n",
       "        vertical-align: middle;\n",
       "    }\n",
       "\n",
       "    .dataframe tbody tr th {\n",
       "        vertical-align: top;\n",
       "    }\n",
       "\n",
       "    .dataframe thead tr th {\n",
       "        text-align: left;\n",
       "    }\n",
       "\n",
       "    .dataframe thead tr:last-of-type th {\n",
       "        text-align: right;\n",
       "    }\n",
       "</style>\n",
       "<table border=\"1\" class=\"dataframe\">\n",
       "  <thead>\n",
       "    <tr>\n",
       "      <th></th>\n",
       "      <th colspan=\"2\" halign=\"left\">Зарплата.в.месяц</th>\n",
       "      <th>avg</th>\n",
       "    </tr>\n",
       "    <tr>\n",
       "      <th></th>\n",
       "      <th>min</th>\n",
       "      <th>max</th>\n",
       "      <th></th>\n",
       "    </tr>\n",
       "    <tr>\n",
       "      <th>Должность</th>\n",
       "      <th></th>\n",
       "      <th></th>\n",
       "      <th></th>\n",
       "    </tr>\n",
       "  </thead>\n",
       "  <tbody>\n",
       "    <tr>\n",
       "      <th>Data Scientist / Data Analyst</th>\n",
       "      <td>300</td>\n",
       "      <td>300</td>\n",
       "      <td>300.000000</td>\n",
       "    </tr>\n",
       "    <tr>\n",
       "      <th>DevOps</th>\n",
       "      <td>5500</td>\n",
       "      <td>5500</td>\n",
       "      <td>5500.000000</td>\n",
       "    </tr>\n",
       "    <tr>\n",
       "      <th>ERP / CRM</th>\n",
       "      <td>1000</td>\n",
       "      <td>1000</td>\n",
       "      <td>1000.000000</td>\n",
       "    </tr>\n",
       "    <tr>\n",
       "      <th>HTML coder</th>\n",
       "      <td>-300</td>\n",
       "      <td>350</td>\n",
       "      <td>70.000000</td>\n",
       "    </tr>\n",
       "    <tr>\n",
       "      <th>Junior Software Engineer</th>\n",
       "      <td>-2000</td>\n",
       "      <td>4000</td>\n",
       "      <td>214.321094</td>\n",
       "    </tr>\n",
       "    <tr>\n",
       "      <th>Product Manager</th>\n",
       "      <td>500</td>\n",
       "      <td>500</td>\n",
       "      <td>500.000000</td>\n",
       "    </tr>\n",
       "    <tr>\n",
       "      <th>Senior Software Engineer</th>\n",
       "      <td>-1821</td>\n",
       "      <td>8000</td>\n",
       "      <td>428.262037</td>\n",
       "    </tr>\n",
       "    <tr>\n",
       "      <th>Software Engineer</th>\n",
       "      <td>-1500</td>\n",
       "      <td>4500</td>\n",
       "      <td>448.833026</td>\n",
       "    </tr>\n",
       "    <tr>\n",
       "      <th>System Architect</th>\n",
       "      <td>-400</td>\n",
       "      <td>4000</td>\n",
       "      <td>436.923077</td>\n",
       "    </tr>\n",
       "    <tr>\n",
       "      <th>Team lead</th>\n",
       "      <td>500</td>\n",
       "      <td>500</td>\n",
       "      <td>500.000000</td>\n",
       "    </tr>\n",
       "    <tr>\n",
       "      <th>Technical Lead</th>\n",
       "      <td>-500</td>\n",
       "      <td>5000</td>\n",
       "      <td>433.508000</td>\n",
       "    </tr>\n",
       "  </tbody>\n",
       "</table>\n",
       "</div>"
      ],
      "text/plain": [
       "                              Зарплата.в.месяц                avg\n",
       "                                           min   max             \n",
       "Должность                                                        \n",
       "Data Scientist / Data Analyst              300   300   300.000000\n",
       "DevOps                                    5500  5500  5500.000000\n",
       "ERP / CRM                                 1000  1000  1000.000000\n",
       "HTML coder                                -300   350    70.000000\n",
       "Junior Software Engineer                 -2000  4000   214.321094\n",
       "Product Manager                            500   500   500.000000\n",
       "Senior Software Engineer                 -1821  8000   428.262037\n",
       "Software Engineer                        -1500  4500   448.833026\n",
       "System Architect                          -400  4000   436.923077\n",
       "Team lead                                  500   500   500.000000\n",
       "Technical Lead                            -500  5000   433.508000"
      ]
     },
     "execution_count": 187,
     "metadata": {},
     "output_type": "execute_result"
    }
   ],
   "source": [
    "def fill_avg_salary(salary):\n",
    "    return salary.mean()\n",
    "\n",
    "avg = new_df.groupby('Должность').agg('Зарплата.в.месяц').apply(fill_avg_salary)\n",
    "table = new_df.groupby(['Должность']).agg({'Зарплата.в.месяц': ['min', 'max']})\n",
    "table['avg'] = avg\n",
    "table"
   ]
  },
  {
   "cell_type": "markdown",
   "id": "424754e4",
   "metadata": {},
   "source": [
    "#### Создайте описательную статистику с помощью метода describe для нового столбца."
   ]
  },
  {
   "cell_type": "code",
   "execution_count": 189,
   "id": "42406f96",
   "metadata": {},
   "outputs": [
    {
     "data": {
      "text/plain": [
       "count      11.000000\n",
       "mean      893.804294\n",
       "std      1544.887591\n",
       "min        70.000000\n",
       "25%       364.131019\n",
       "50%       436.923077\n",
       "75%       500.000000\n",
       "max      5500.000000\n",
       "Name: avg, dtype: float64"
      ]
     },
     "execution_count": 189,
     "metadata": {},
     "output_type": "execute_result"
    }
   ],
   "source": [
    "table['avg'].describe()"
   ]
  },
  {
   "cell_type": "markdown",
   "id": "cf0ddb2c",
   "metadata": {},
   "source": [
    "#### Сохраните полученную таблицу в CSV файл"
   ]
  },
  {
   "cell_type": "code",
   "execution_count": 195,
   "id": "d853b91d",
   "metadata": {},
   "outputs": [],
   "source": [
    "table.to_csv(\"data/salary_table.csv\", index=False)"
   ]
  }
 ],
 "metadata": {
  "kernelspec": {
   "display_name": "Python 3 (ipykernel)",
   "language": "python",
   "name": "python3"
  },
  "language_info": {
   "codemirror_mode": {
    "name": "ipython",
    "version": 3
   },
   "file_extension": ".py",
   "mimetype": "text/x-python",
   "name": "python",
   "nbconvert_exporter": "python",
   "pygments_lexer": "ipython3",
   "version": "3.9.13"
  },
  "vscode": {
   "interpreter": {
    "hash": "aee8b7b246df8f9039afb4144a1f6fd8d2ca17a180786b69acc140d282b71a49"
   }
  }
 },
 "nbformat": 4,
 "nbformat_minor": 5
}
